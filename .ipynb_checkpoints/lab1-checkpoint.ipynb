{
 "cells": [
  {
   "cell_type": "code",
   "execution_count": 141,
   "metadata": {},
   "outputs": [],
   "source": [
    "from random import random\n",
    "import math"
   ]
  },
  {
   "cell_type": "code",
   "execution_count": 142,
   "metadata": {},
   "outputs": [],
   "source": [
    "a = 131075.0\n",
    "b = 131075.0\n",
    "K = 128\n",
    "n = 1000\n",
    "M = 2.0 ** 31\n",
    "chi = 16.92\n",
    "delta = 1.36"
   ]
  },
  {
   "cell_type": "code",
   "execution_count": 143,
   "metadata": {},
   "outputs": [],
   "source": [
    "def multiplicative_congruential_method(a, b, m, n):\n",
    "    for _ in range(n):\n",
    "        a = (a * b) % m\n",
    "        yield a / m\n",
    "\n",
    "        \n",
    "def maclaren_marsaglia_method(b, c, K, n):\n",
    "    v = []\n",
    "    for i in range(K):\n",
    "        v.append(b[i])\n",
    "    for i in range(n):\n",
    "        s = int(c[i] * K)\n",
    "        a = v[s]\n",
    "        yield a\n",
    "        v[s] = b[i + K]"
   ]
  },
  {
   "cell_type": "code",
   "execution_count": 144,
   "metadata": {},
   "outputs": [],
   "source": [
    "generated_by_mcm = list(multiplicative_congruential_method(a, b, M, n + K))\n",
    "generated_by_random = [random() for _ in range(n)]\n",
    "generated_by_mmm = list(maclaren_marsaglia_method(generated_by_mcm, generated_by_random, K, n))"
   ]
  },
  {
   "cell_type": "code",
   "execution_count": 145,
   "metadata": {},
   "outputs": [],
   "source": [
    "def kolmogorov_difference(n, rand_seq):\n",
    "    uniform_value = [float(i + 1) / n for i in range(n)]\n",
    "    difference = []\n",
    "    \n",
    "    for i in range(n):\n",
    "        difference.append(abs(rand_seq[i] - uniform_value[i]))\n",
    "    \n",
    "    Dn = max(list(difference))\n",
    "    print(Dn)\n",
    "    return math.sqrt(n) * Dn  \n",
    "\n",
    "\n",
    "def pearson(seq):\n",
    "    number_of_cells = 10\n",
    "    frequencies = [0] * number_of_cells\n",
    "    for number in seq:\n",
    "        frequencies[int(number * number_of_cells)] += 1\n",
    "    \n",
    "    x2 = 0\n",
    "    p = [1.0 / number_of_cells] * number_of_cells\n",
    "    \n",
    "    for k in range(number_of_cells):\n",
    "        x2 += (frequencies[k] - n * p[k]) ** 2 / (n * p[k])\n",
    "    return x2"
   ]
  },
  {
   "cell_type": "code",
   "execution_count": 146,
   "metadata": {},
   "outputs": [
    {
     "name": "stdout",
     "output_type": "stream",
     "text": [
      "0.011290580156450791\n",
      "Kolmogorov: Multiplicative Congruential generator\n",
      "Difference:  0.3792021649512343\n",
      "Smaller than delta?:  True\n",
      "-----------------\n",
      "0.017530042696744186\n",
      "Kolmogorov: Maclaren Marsaglia generator\n",
      "Difference:  0.5543486240171199\n",
      "Smaller than delta?:  True\n"
     ]
    }
   ],
   "source": [
    "test_mcm = kolmogorov_difference(n + K, sorted(generated_by_mcm))\n",
    "\n",
    "print(\"Kolmogorov: Multiplicative Congruential generator\")\n",
    "print(\"Difference: \", str(test_mcm))\n",
    "print(\"Smaller than delta?: \", str(test_mcm < delta))\n",
    "\n",
    "print(\"-----------------\")\n",
    "\n",
    "test_mmm = kolmogorov_difference(n, sorted(generated_by_mmm))\n",
    "\n",
    "print(\"Kolmogorov: Maclaren Marsaglia generator\")\n",
    "print(\"Difference: \", str(test_mmm))\n",
    "print(\"Smaller than delta?: \", str(test_mmm < delta))"
   ]
  },
  {
   "cell_type": "code",
   "execution_count": 147,
   "metadata": {},
   "outputs": [
    {
     "name": "stdout",
     "output_type": "stream",
     "text": [
      "Pearson: Multiplicative Congruential generator\n",
      "Difference:  20.2\n",
      "Smaller than delta?:  True\n",
      "-----------------\n",
      "Pearson: Maclaren Marsaglia generator\n",
      "Difference:  5.96\n",
      "Smaller than delta?:  True\n"
     ]
    }
   ],
   "source": [
    "result_mcm = pearson(generated_by_mcm)\n",
    "\n",
    "print(\"Pearson: Multiplicative Congruential generator\")\n",
    "print(\"Difference: \", str(result_mcm))\n",
    "print(\"Smaller than delta?: \", str(test_mcm < chi))\n",
    "\n",
    "print(\"-----------------\")\n",
    "\n",
    "result_mmm = pearson(generated_by_mmm)\n",
    "\n",
    "print(\"Pearson: Maclaren Marsaglia generator\")\n",
    "print(\"Difference: \", str(result_mmm))\n",
    "print(\"Smaller than delta?: \", str(test_mmm < chi))"
   ]
  },
  {
   "cell_type": "code",
   "execution_count": null,
   "metadata": {},
   "outputs": [],
   "source": []
  },
  {
   "cell_type": "code",
   "execution_count": null,
   "metadata": {},
   "outputs": [],
   "source": []
  }
 ],
 "metadata": {
  "kernelspec": {
   "display_name": "Python 3",
   "language": "python",
   "name": "python3"
  },
  "language_info": {
   "codemirror_mode": {
    "name": "ipython",
    "version": 3
   },
   "file_extension": ".py",
   "mimetype": "text/x-python",
   "name": "python",
   "nbconvert_exporter": "python",
   "pygments_lexer": "ipython3",
   "version": "3.7.3"
  }
 },
 "nbformat": 4,
 "nbformat_minor": 2
}
