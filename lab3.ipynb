{
 "cells": [
  {
   "cell_type": "code",
   "execution_count": 2,
   "metadata": {},
   "outputs": [],
   "source": [
    "import math\n",
    "from random import random\n",
    "import numpy as np"
   ]
  },
  {
   "cell_type": "code",
   "execution_count": 71,
   "metadata": {},
   "outputs": [],
   "source": [
    "def print_mean_var(seq, mean, var, x, y):\n",
    "    print(\"mean real: \" + str(np.array(seq).mean()))\n",
    "    print(\"mean theory: \" + str(mean(x, y)))\n",
    "    print(\"mean difference: \" + str(np.array(seq).mean() - mean(x, y)))\n",
    "    print()\n",
    "    print(\"variance real: \" + str(np.array(seq).var()))\n",
    "    print(\"variance theory: \" + str(var(x, y)))\n",
    "    print(\"variance difference: \" + str(np.array(seq).var() - var(x, y)))\n",
    "\n",
    "\n",
    "\n",
    "def get_next_gauss(N):\n",
    "    r = random()\n",
    "    return math.sqrt(12 / N) * (sum([random() for _ in range(N)]) - N / 2)\n",
    "\n",
    "\n",
    "def gauss(m, s, N, n):\n",
    "    for _ in range(n):\n",
    "        yield m + s * get_next_gauss(N)\n",
    "    \n",
    "\n",
    "def mean_gauss_theory(m, s):\n",
    "    return m\n",
    "\n",
    "\n",
    "def variance_gauss_theory(m, s):\n",
    "    return s ** 2\n",
    "\n",
    "def variance(seq):\n",
    "    sum = 0\n",
    "    mean = np.array(seq).mean()\n",
    "\n",
    "    for el in seq:\n",
    "        sum += (el - mean) ** 2\n",
    "    return  1 / (len(seq) - 1) * sum"
   ]
  },
  {
   "cell_type": "code",
   "execution_count": 47,
   "metadata": {},
   "outputs": [
    {
     "name": "stdout",
     "output_type": "stream",
     "text": [
      "mean real: -4.015168368268503\n",
      "mean theory: -4\n",
      "mean difference: -0.015168368268502874\n",
      "\n",
      "variance real: 3.900923358705383\n",
      "variance theory: 4\n",
      "variance difference: -0.09907664129461713\n"
     ]
    }
   ],
   "source": [
    "N = 48\n",
    "n = 10000\n",
    "m = -4\n",
    "s = 2\n",
    "\n",
    "gauss_seq = list(gauss(m, s, N, n))\n",
    "print_mean_var(gauss_seq, mean_gauss_theory, variance_gauss_theory, m, s)\n"
   ]
  },
  {
   "cell_type": "code",
   "execution_count": 48,
   "metadata": {},
   "outputs": [
    {
     "name": "stdout",
     "output_type": "stream",
     "text": [
      "2.0117420863110556\n",
      "mean real: 2.0117420863110556\n",
      "mean theory: 2.0\n",
      "mean difference: 0.011742086311055555\n",
      "\n",
      "variance real: 3.949112124265558\n",
      "variance theory: 4.0\n",
      "variance difference: -0.0508878757344422\n"
     ]
    }
   ],
   "source": [
    "a = 0.5\n",
    "\n",
    "def mean_exp_theory(a, *args):\n",
    "    return 1.0 / a\n",
    "\n",
    "def variance_exp_theory(a, *args):\n",
    "    return 1 / (a ** 2)\n",
    "\n",
    "def exponential(a, n):\n",
    "    for _ in range(n):\n",
    "        yield -1 / a * math.log(random())\n",
    "        \n",
    "exp_seq = list(exponential(a, n))\n",
    "print((np.array(exp_seq)).mean())\n",
    "print_mean_var(exp_seq, mean_exp_theory, variance_exp_theory, a, None)"
   ]
  },
  {
   "cell_type": "code",
   "execution_count": 49,
   "metadata": {},
   "outputs": [
    {
     "name": "stdout",
     "output_type": "stream",
     "text": [
      "mean real: 0.03104303574324872\n",
      "mean theory: 0\n",
      "mean difference: 0.03104303574324872\n",
      "\n",
      "variance real: 7.6472777923197155\n",
      "variance theory: 7.4022033008170185\n",
      "variance difference: 0.245074491502697\n"
     ]
    }
   ],
   "source": [
    "a = 0\n",
    "b = 1.5\n",
    "\n",
    "def mean_log_theory(a, b):\n",
    "    return a\n",
    "\n",
    "def variance_log_theory(a, b):\n",
    "    return (math.pi ** 2) / 3 * b ** 2\n",
    "\n",
    "def logistic(a, b, n):\n",
    "    for _ in range(n):\n",
    "        r = random()\n",
    "        yield a + b * math.log(r  /(1 - r))\n",
    "        \n",
    "log_seq = list(logistic(a, b, n))\n",
    "print_mean_var(log_seq, mean_log_theory, variance_log_theory, a, b)"
   ]
  },
  {
   "cell_type": "code",
   "execution_count": 50,
   "metadata": {},
   "outputs": [],
   "source": [
    "pi = 0.7"
   ]
  },
  {
   "cell_type": "markdown",
   "metadata": {},
   "source": [
    "3) (1 балл) Осуществить моделирование n = 10000 реализаций случайной величины из стандартного нормального закона распределения N(0, 1), используя преобразование Бокса — Мюллера http://ru.wikipedia.org/wiki/Преобразование_Бокса_—_Мюллера (в источнике  Лобач В.И. [и др] такой метод моделирования называется: моделирование, «используя функциональное преобразование»).\n"
   ]
  },
  {
   "cell_type": "code",
   "execution_count": 65,
   "metadata": {},
   "outputs": [
    {
     "name": "stdout",
     "output_type": "stream",
     "text": [
      "1.119023236102204\n",
      "0.1644865169408829\n",
      "-0.5060345197485131\n",
      "-0.8953188938538177\n",
      "-0.471049953623506\n",
      "-0.49036588352963056\n",
      "-0.9245028087414007\n",
      "0.4769465805735644\n",
      "-0.944218037158646\n",
      "-0.12471060065791993\n",
      "0.25271105709777747\n",
      "0.03341529260049195\n",
      "-1.1100559939047274\n",
      "0.7850655143883184\n",
      "-0.13686537145194197\n",
      "1.5436312570321271\n",
      "0.3197186460637468\n",
      "-1.3691845203959083\n",
      "1.079384047971998\n",
      "0.49028525982253884\n"
     ]
    }
   ],
   "source": [
    "def box_muller(n):\n",
    "    for i in range(n):\n",
    "        x = random() * 2 - 1\n",
    "        y = random() * 2 - 1\n",
    "        s = x ** 2 + y ** 2\n",
    "    \n",
    "        while s > 1 or s == 0:\n",
    "            x = random() * 2 - 1\n",
    "            y = random() * 2 - 1\n",
    "            s = x ** 2 + y ** 2\n",
    "    \n",
    "        yield x *( -2 * math.log(s) / s) ** 0.5\n",
    "        yield y *( -2 * math.log(s) / s) ** 0.5\n",
    "\n",
    "bm_seq = list(box_muller(n))\n",
    "for i in range(20):\n",
    "    print(bm_seq[i])"
   ]
  },
  {
   "cell_type": "markdown",
   "metadata": {},
   "source": [
    "4) (1 балл) для смоделированной в бонусном пункте 3 выборки оценить коэффициент корреляции между элементами, стоящими на четных позициях, и элементах, стоящих на нечетных позициях."
   ]
  },
  {
   "cell_type": "code",
   "execution_count": 76,
   "metadata": {},
   "outputs": [
    {
     "data": {
      "text/plain": [
       "-0.005465477203856746"
      ]
     },
     "execution_count": 76,
     "metadata": {},
     "output_type": "execute_result"
    }
   ],
   "source": [
    "odd_elements = [bm_seq[i] for i in range(0, n, 2)]\n",
    "even_elements = [bm_seq[i] for i in range(1, n, 2)]\n",
    "\n",
    "def correlation(seq1, seq2):\n",
    "    mean1 = np.array(seq1).mean()\n",
    "    mean2 = np.array(seq2).mean()\n",
    "    var1 = variance(seq1)\n",
    "    var2 = variance(seq2)\n",
    "    \n",
    "    corr = 0.\n",
    "    for i in range(len(seq1)):\n",
    "        corr += (seq1[i] - mean1) * (seq2[i] - mean2)\n",
    "\n",
    "    return corr / (var1 * var2) ** 0.5 / len(seq1)\n",
    "correlation(odd_elements, even_elements)"
   ]
  },
  {
   "cell_type": "code",
   "execution_count": 75,
   "metadata": {},
   "outputs": [
    {
     "data": {
      "text/plain": [
       "-0.005465477203856746"
      ]
     },
     "execution_count": 75,
     "metadata": {},
     "output_type": "execute_result"
    }
   ],
   "source": []
  },
  {
   "cell_type": "code",
   "execution_count": null,
   "metadata": {},
   "outputs": [],
   "source": []
  },
  {
   "cell_type": "code",
   "execution_count": null,
   "metadata": {},
   "outputs": [],
   "source": []
  }
 ],
 "metadata": {
  "kernelspec": {
   "display_name": "Python 3",
   "language": "python",
   "name": "python3"
  },
  "language_info": {
   "codemirror_mode": {
    "name": "ipython",
    "version": 3
   },
   "file_extension": ".py",
   "mimetype": "text/x-python",
   "name": "python",
   "nbconvert_exporter": "python",
   "pygments_lexer": "ipython3",
   "version": "3.7.3"
  }
 },
 "nbformat": 4,
 "nbformat_minor": 2
}
