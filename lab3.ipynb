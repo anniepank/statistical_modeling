{
 "cells": [
  {
   "cell_type": "code",
   "execution_count": 2,
   "metadata": {},
   "outputs": [],
   "source": [
    "import math\n",
    "from random import random\n",
    "import numpy as np"
   ]
  },
  {
   "cell_type": "code",
   "execution_count": 3,
   "metadata": {},
   "outputs": [],
   "source": [
    "def print_mean_var(seq, mean, var, x, y):\n",
    "    print(\"mean real: \" + str(np.array(seq).mean()))\n",
    "    print(\"mean theory: \" + str(mean(x, y)))\n",
    "    print(\"mean difference: \" + str(np.array(seq).mean() - mean(x, y)))\n",
    "    print()\n",
    "    print(\"variance real: \" + str(np.array(seq).var()))\n",
    "    print(\"variance theory: \" + str(var(x, y)))\n",
    "    print(\"variance difference: \" + str(np.array(seq).var() - var(x, y)))\n",
    "\n",
    "\n",
    "\n",
    "def get_next_gauss(N):\n",
    "    r = random()\n",
    "    return math.sqrt(12 / N) * (sum([random() for _ in range(N)]) - N / 2)\n",
    "\n",
    "\n",
    "def gauss(m, s, N, n):\n",
    "    for _ in range(n):\n",
    "        yield m + s * get_next_gauss(N)\n",
    "    \n",
    "\n",
    "def mean_gauss_theory(m, s):\n",
    "    return m\n",
    "\n",
    "\n",
    "def variance_gauss_theory(m, s):\n",
    "    return s ** 2\n",
    "\n",
    "def variance(seq):\n",
    "    sum = 0\n",
    "    mean = np.array(seq).mean()\n",
    "\n",
    "    for el in seq:\n",
    "        sum += (el - mean) ** 2\n",
    "    return  1 / (len(seq) - 1) * sum"
   ]
  },
  {
   "cell_type": "code",
   "execution_count": 4,
   "metadata": {},
   "outputs": [
    {
     "name": "stdout",
     "output_type": "stream",
     "text": [
      "mean real: -3.9698743423858827\n",
      "mean theory: -4\n",
      "mean difference: 0.03012565761411734\n",
      "\n",
      "variance real: 4.012996456992167\n",
      "variance theory: 4\n",
      "variance difference: 0.012996456992167005\n"
     ]
    }
   ],
   "source": [
    "N = 48\n",
    "n = 10000\n",
    "m = -4\n",
    "s = 2\n",
    "\n",
    "gauss_seq = list(gauss(m, s, N, n))\n",
    "print_mean_var(gauss_seq, mean_gauss_theory, variance_gauss_theory, m, s)\n"
   ]
  },
  {
   "cell_type": "code",
   "execution_count": 5,
   "metadata": {},
   "outputs": [
    {
     "name": "stdout",
     "output_type": "stream",
     "text": [
      "2.0160983248879076\n",
      "mean real: 2.0160983248879076\n",
      "mean theory: 2.0\n",
      "mean difference: 0.016098324887907633\n",
      "\n",
      "variance real: 3.948306141514765\n",
      "variance theory: 4.0\n",
      "variance difference: -0.05169385848523511\n"
     ]
    }
   ],
   "source": [
    "a = 0.5\n",
    "\n",
    "def mean_exp_theory(a, *args):\n",
    "    return 1.0 / a\n",
    "\n",
    "def variance_exp_theory(a, *args):\n",
    "    return 1 / (a ** 2)\n",
    "\n",
    "def exponential(a, n):\n",
    "    for _ in range(n):\n",
    "        yield -1 / a * math.log(random())\n",
    "        \n",
    "exp_seq = list(exponential(a, n))\n",
    "print((np.array(exp_seq)).mean())\n",
    "print_mean_var(exp_seq, mean_exp_theory, variance_exp_theory, a, None)"
   ]
  },
  {
   "cell_type": "code",
   "execution_count": 6,
   "metadata": {},
   "outputs": [
    {
     "name": "stdout",
     "output_type": "stream",
     "text": [
      "mean real: -0.022063682190827973\n",
      "mean theory: 0\n",
      "mean difference: -0.022063682190827973\n",
      "\n",
      "variance real: 7.36641009002865\n",
      "variance theory: 7.4022033008170185\n",
      "variance difference: -0.03579321078836806\n"
     ]
    }
   ],
   "source": [
    "a = 0\n",
    "b = 1.5\n",
    "\n",
    "def mean_log_theory(a, b):\n",
    "    return a\n",
    "\n",
    "def variance_log_theory(a, b):\n",
    "    return (math.pi ** 2) / 3 * b ** 2\n",
    "\n",
    "def logistic(a, b, n):\n",
    "    for _ in range(n):\n",
    "        r = random()\n",
    "        yield a + b * math.log(r  /(1 - r))\n",
    "        \n",
    "log_seq = list(logistic(a, b, n))\n",
    "print_mean_var(log_seq, mean_log_theory, variance_log_theory, a, b)"
   ]
  },
  {
   "cell_type": "code",
   "execution_count": 7,
   "metadata": {},
   "outputs": [],
   "source": [
    "pi = 0.7"
   ]
  },
  {
   "cell_type": "markdown",
   "metadata": {},
   "source": [
    "3) (1 балл) Осуществить моделирование n = 10000 реализаций случайной величины из стандартного нормального закона распределения N(0, 1), используя преобразование Бокса — Мюллера http://ru.wikipedia.org/wiki/Преобразование_Бокса_—_Мюллера (в источнике  Лобач В.И. [и др] такой метод моделирования называется: моделирование, «используя функциональное преобразование»).\n"
   ]
  },
  {
   "cell_type": "code",
   "execution_count": 8,
   "metadata": {},
   "outputs": [
    {
     "name": "stdout",
     "output_type": "stream",
     "text": [
      "-0.09332064772319325\n",
      "-0.10566579403894813\n",
      "0.44331278706193966\n",
      "0.20092140680763157\n",
      "-1.045097083949485\n",
      "-0.7204304856784868\n",
      "1.7341604486306037\n",
      "-0.26177681970449024\n",
      "1.4713249565960116\n",
      "-0.6129352249998252\n",
      "-0.25386552024501363\n",
      "-0.4667582127600374\n",
      "0.39111549762933884\n",
      "-1.43573906594666\n",
      "0.45182883732187185\n",
      "-1.6159264800582902\n",
      "0.13605874841793286\n",
      "-1.0234692563881274\n",
      "-0.9589613902754903\n",
      "-0.6123488337260174\n"
     ]
    }
   ],
   "source": [
    "def box_muller(n):\n",
    "    for i in range(n):\n",
    "        x = random() * 2 - 1\n",
    "        y = random() * 2 - 1\n",
    "        s = x ** 2 + y ** 2\n",
    "    \n",
    "        while s > 1 or s == 0:\n",
    "            x = random() * 2 - 1\n",
    "            y = random() * 2 - 1\n",
    "            s = x ** 2 + y ** 2\n",
    "    \n",
    "        yield x *( -2 * math.log(s) / s) ** 0.5\n",
    "        yield y *( -2 * math.log(s) / s) ** 0.5\n",
    "\n",
    "bm_seq = list(box_muller(n))\n",
    "for i in range(20):\n",
    "    print(bm_seq[i])"
   ]
  },
  {
   "cell_type": "markdown",
   "metadata": {},
   "source": [
    "4) (1 балл) для смоделированной в бонусном пункте 3 выборки оценить коэффициент корреляции между элементами, стоящими на четных позициях, и элементах, стоящих на нечетных позициях."
   ]
  },
  {
   "cell_type": "code",
   "execution_count": 9,
   "metadata": {},
   "outputs": [
    {
     "data": {
      "text/plain": [
       "-0.022544798953924583"
      ]
     },
     "execution_count": 9,
     "metadata": {},
     "output_type": "execute_result"
    }
   ],
   "source": [
    "odd_elements = [bm_seq[i] for i in range(0, n, 2)]\n",
    "even_elements = [bm_seq[i] for i in range(1, n, 2)]\n",
    "\n",
    "def correlation(seq1, seq2):\n",
    "    mean1 = np.array(seq1).mean()\n",
    "    mean2 = np.array(seq2).mean()\n",
    "    var1 = variance(seq1)\n",
    "    var2 = variance(seq2)\n",
    "    \n",
    "    corr = 0.\n",
    "    for i in range(len(seq1)):\n",
    "        corr += (seq1[i] - mean1) * (seq2[i] - mean2)\n",
    "\n",
    "    return corr / (var1 * var2) ** 0.5 / len(seq1)\n",
    "correlation(odd_elements, even_elements)"
   ]
  },
  {
   "cell_type": "code",
   "execution_count": 67,
   "metadata": {},
   "outputs": [],
   "source": [
    "e = 0.05\n",
    "k = 10\n",
    "delta_pearson = 16.9\n",
    "def pearson(f, n, probabilities):\n",
    "    xi = 0\n",
    "    for i in range(len(f)):\n",
    "        xi += (f[i] - probabilities[i] * n) ** 2 / (probabilities[i] * n)\n",
    "    \n",
    "    return xi\n",
    "\n",
    "def count_frequencies(n, seq, probability_function):\n",
    "    seq = sorted(seq, reverse=True)\n",
    "    print(seq[:20])\n",
    "    size = len(seq)\n",
    "    k = int(size / n)\n",
    "    probabilities = []\n",
    "    frequencies = []\n",
    "    j = 0\n",
    "    for i in range(n):\n",
    "        frequence = 0\n",
    "        left = probability_function(min(seq) + (max(seq) - min(seq))* i / n)\n",
    "        right = probability_function(min(seq) + (max(seq) - min(seq))* (i+1) / n)\n",
    "        print(\"left: \", j)\n",
    "        print(\"right border: \", min(seq) + (max(seq) - min(seq))* (i+1) / n)\n",
    "        print(\"seq j: \", seq[j])\n",
    "\n",
    "        while j < size and  seq[j] < min(seq) + (max(seq) - min(seq))* (i+1) / n:\n",
    "            j += 1\n",
    "            frequence += 1\n",
    "        frequencies.append(frequence)\n",
    "        print(\"right: \", j)\n",
    "        probabilities.append(right - left)\n",
    "    return frequencies, k, probabilities\n",
    "\n",
    "\n"
   ]
  },
  {
   "cell_type": "code",
   "execution_count": 70,
   "metadata": {},
   "outputs": [
    {
     "name": "stdout",
     "output_type": "stream",
     "text": [
      "4.596339015329512\n",
      "-11.180597574979213\n",
      "[4.596339015329512, 3.3062942166077285, 3.145478412160447, 2.8731299981985288, 2.7014127573376285, 2.6324376967877576, 2.2360464932320347, 2.160690026195301, 2.1561968151035913, 2.0720711975965855, 1.9842822572907686, 1.978432366414264, 1.9202535625762707, 1.912011701366776, 1.8566660525199445, 1.8261349044147117, 1.7011161764843692, 1.6842255366276255, 1.6280501194031949, 1.6210158577664018]\n",
      "left:  0\n",
      "right border:  -9.60290391594834\n",
      "seq j:  4.596339015329512\n",
      "right:  0\n",
      "left:  0\n",
      "right border:  -8.025210256917468\n",
      "seq j:  4.596339015329512\n",
      "right:  0\n",
      "left:  0\n",
      "right border:  -6.447516597886596\n",
      "seq j:  4.596339015329512\n",
      "right:  0\n",
      "left:  0\n",
      "right border:  -4.869822938855723\n",
      "seq j:  4.596339015329512\n",
      "right:  0\n",
      "left:  0\n",
      "right border:  -3.2921292798248505\n",
      "seq j:  4.596339015329512\n",
      "right:  0\n",
      "left:  0\n",
      "right border:  -1.714435620793978\n",
      "seq j:  4.596339015329512\n",
      "right:  0\n",
      "left:  0\n",
      "right border:  -0.13674196176310538\n",
      "seq j:  4.596339015329512\n",
      "right:  0\n",
      "left:  0\n",
      "right border:  1.4409516972677672\n",
      "seq j:  4.596339015329512\n",
      "right:  0\n",
      "left:  0\n",
      "right border:  3.0186453562986415\n",
      "seq j:  4.596339015329512\n",
      "right:  0\n",
      "left:  0\n",
      "right border:  4.596339015329512\n",
      "seq j:  4.596339015329512\n",
      "right:  0\n",
      "[0.0023785112004514053, 0.019534432749908848, 0.08844361639271547, 0.22129163464952384, 0.3064929921755227, 0.23512914561930442, 0.0998618619306122, 0.023443254041028316, 0.003034776925267879, 0.0002160140320863757]\n",
      "FREQUENCES\n",
      "[0, 0, 0, 0, 0, 0, 0, 0, 0, 0]\n",
      "Pearson gauss:  9998.262397164217 <  16.9 ?  False\n"
     ]
    }
   ],
   "source": [
    "print(max(gauss_seq))\n",
    "print(min(gauss_seq))\n",
    "\n",
    "\n",
    "def gauss_distribution(x):\n",
    "    return 0.5 * (1 + math.erf((x - m) / (math.sqrt(2) * s)))\n",
    "\n",
    "f, segment_size, probabilities = count_frequencies(k, gauss_seq, gauss_distribution)\n",
    "print(probabilities)\n",
    "print(\"FREQUENCES\")\n",
    "print(f)\n",
    "\n",
    "pearson_gauss = pearson(f, len(gauss_seq), probabilities)\n",
    "print(\"Pearson gauss: \", pearson_gauss, \"< \", delta_pearson, \"? \", pearson_gauss < delta_pearson)"
   ]
  },
  {
   "cell_type": "code",
   "execution_count": 69,
   "metadata": {
    "scrolled": true
   },
   "outputs": [
    {
     "name": "stdout",
     "output_type": "stream",
     "text": [
      "[13.903617750819038, 12.012453647205831, 11.857340105720247, 11.793634192419558, 11.492433183699003, 11.103973601183508, 10.965997024688006, 10.879141115013466, 10.058950761962778, 9.921231599829694, 9.873037534160769, 9.863702370790708, 9.73878032588226, 9.540724914283262, 9.496058143369963, 9.463778506711018, 9.310288678059312, 9.244682208678775, 8.963542981383375, 8.8384989533772]\n",
      "left:  0\n",
      "right border:  -10.761151255489763\n",
      "seq j:  13.903617750819038\n",
      "right:  0\n",
      "left:  0\n",
      "right border:  -8.020621365899895\n",
      "seq j:  13.903617750819038\n",
      "right:  0\n",
      "left:  0\n",
      "right border:  -5.28009147631003\n",
      "seq j:  13.903617750819038\n",
      "right:  0\n",
      "left:  0\n",
      "right border:  -2.539561586720163\n",
      "seq j:  13.903617750819038\n",
      "right:  0\n",
      "left:  0\n",
      "right border:  0.2009683028697058\n",
      "seq j:  13.903617750819038\n",
      "right:  0\n",
      "left:  0\n",
      "right border:  2.9414981924595693\n",
      "seq j:  13.903617750819038\n",
      "right:  0\n",
      "left:  0\n",
      "right border:  5.682028082049435\n",
      "seq j:  13.903617750819038\n",
      "right:  0\n",
      "left:  0\n",
      "right border:  8.422557971639304\n",
      "seq j:  13.903617750819038\n",
      "right:  0\n",
      "left:  0\n",
      "right border:  11.163087861229172\n",
      "seq j:  13.903617750819038\n",
      "right:  0\n",
      "left:  0\n",
      "right border:  13.903617750819041\n",
      "seq j:  13.903617750819038\n",
      "right:  10000\n",
      "Pearson logistic:  26303770.594704732 <  16.9 ?  False\n"
     ]
    }
   ],
   "source": [
    "m = -4\n",
    "s = 2\n",
    "def logistic_distribution(x):\n",
    "    return 1 / (1 + math.exp(-1 * (x - m) / s))\n",
    "\n",
    "f, segment_size, probabilities = count_frequencies(k, log_seq, logistic_distribution)\n",
    "\n",
    "pearson_logistic = pearson(f, len(log_seq), probabilities)\n",
    "print(\"Pearson logistic: \", pearson_logistic, \"< \", delta_pearson, \"? \", pearson_logistic < delta_pearson)"
   ]
  },
  {
   "cell_type": "code",
   "execution_count": 45,
   "metadata": {},
   "outputs": [
    {
     "name": "stdout",
     "output_type": "stream",
     "text": [
      "[25.11903094320389, 23.821637612385675, 23.758170935742612, 23.26995532348087, 23.002072379590892, 22.295105149019317, 22.092048502845145, 22.048561493887178, 21.47173339883626, 21.308481469847127]\n"
     ]
    },
    {
     "ename": "ZeroDivisionError",
     "evalue": "float division by zero",
     "output_type": "error",
     "traceback": [
      "\u001b[1;31m---------------------------------------------------------------------------\u001b[0m",
      "\u001b[1;31mZeroDivisionError\u001b[0m                         Traceback (most recent call last)",
      "\u001b[1;32m<ipython-input-45-5a79f58e4c22>\u001b[0m in \u001b[0;36m<module>\u001b[1;34m\u001b[0m\n\u001b[0;32m     10\u001b[0m \u001b[0mf\u001b[0m\u001b[1;33m,\u001b[0m \u001b[0msegment_size\u001b[0m\u001b[1;33m,\u001b[0m \u001b[0mprobabilities\u001b[0m \u001b[1;33m=\u001b[0m \u001b[0mcount_frequencies\u001b[0m\u001b[1;33m(\u001b[0m\u001b[0mk\u001b[0m\u001b[1;33m,\u001b[0m \u001b[0mlogistic_seq\u001b[0m\u001b[1;33m,\u001b[0m \u001b[0mlogistic_distribution\u001b[0m\u001b[1;33m)\u001b[0m\u001b[1;33m\u001b[0m\u001b[1;33m\u001b[0m\u001b[0m\n\u001b[0;32m     11\u001b[0m \u001b[1;33m\u001b[0m\u001b[0m\n\u001b[1;32m---> 12\u001b[1;33m \u001b[0mpearson_logistic\u001b[0m \u001b[1;33m=\u001b[0m \u001b[0mpearson\u001b[0m\u001b[1;33m(\u001b[0m\u001b[0mf\u001b[0m\u001b[1;33m,\u001b[0m \u001b[0mlen\u001b[0m\u001b[1;33m(\u001b[0m\u001b[0mlogistic_seq\u001b[0m\u001b[1;33m)\u001b[0m\u001b[1;33m,\u001b[0m \u001b[0mprobabilities\u001b[0m\u001b[1;33m)\u001b[0m\u001b[1;33m\u001b[0m\u001b[1;33m\u001b[0m\u001b[0m\n\u001b[0m\u001b[0;32m     13\u001b[0m \u001b[0mprint\u001b[0m\u001b[1;33m(\u001b[0m\u001b[1;34m\"Pearson logistic: \"\u001b[0m\u001b[1;33m,\u001b[0m \u001b[0mpearson_logistic\u001b[0m\u001b[1;33m,\u001b[0m \u001b[1;34m\"< \"\u001b[0m\u001b[1;33m,\u001b[0m \u001b[0mdelta_pearson\u001b[0m\u001b[1;33m,\u001b[0m \u001b[1;34m\"? \"\u001b[0m\u001b[1;33m,\u001b[0m \u001b[0mpearson_logistic\u001b[0m \u001b[1;33m<\u001b[0m \u001b[0mdelta_pearson\u001b[0m\u001b[1;33m)\u001b[0m\u001b[1;33m\u001b[0m\u001b[1;33m\u001b[0m\u001b[0m\n",
      "\u001b[1;32m<ipython-input-42-ef4e3b72de5e>\u001b[0m in \u001b[0;36mpearson\u001b[1;34m(f, n, probabilities)\u001b[0m\n\u001b[0;32m      5\u001b[0m     \u001b[0mxi\u001b[0m \u001b[1;33m=\u001b[0m \u001b[1;36m0\u001b[0m\u001b[1;33m\u001b[0m\u001b[1;33m\u001b[0m\u001b[0m\n\u001b[0;32m      6\u001b[0m     \u001b[1;32mfor\u001b[0m \u001b[0mi\u001b[0m \u001b[1;32min\u001b[0m \u001b[0mrange\u001b[0m\u001b[1;33m(\u001b[0m\u001b[0mlen\u001b[0m\u001b[1;33m(\u001b[0m\u001b[0mf\u001b[0m\u001b[1;33m)\u001b[0m\u001b[1;33m)\u001b[0m\u001b[1;33m:\u001b[0m\u001b[1;33m\u001b[0m\u001b[1;33m\u001b[0m\u001b[0m\n\u001b[1;32m----> 7\u001b[1;33m         \u001b[0mxi\u001b[0m \u001b[1;33m+=\u001b[0m \u001b[1;33m(\u001b[0m\u001b[0mf\u001b[0m\u001b[1;33m[\u001b[0m\u001b[0mi\u001b[0m\u001b[1;33m]\u001b[0m \u001b[1;33m-\u001b[0m \u001b[0mprobabilities\u001b[0m\u001b[1;33m[\u001b[0m\u001b[0mi\u001b[0m\u001b[1;33m]\u001b[0m \u001b[1;33m*\u001b[0m \u001b[0mn\u001b[0m\u001b[1;33m)\u001b[0m \u001b[1;33m**\u001b[0m \u001b[1;36m2\u001b[0m \u001b[1;33m/\u001b[0m \u001b[1;33m(\u001b[0m\u001b[0mprobabilities\u001b[0m\u001b[1;33m[\u001b[0m\u001b[0mi\u001b[0m\u001b[1;33m]\u001b[0m \u001b[1;33m*\u001b[0m \u001b[0mn\u001b[0m\u001b[1;33m)\u001b[0m\u001b[1;33m\u001b[0m\u001b[1;33m\u001b[0m\u001b[0m\n\u001b[0m\u001b[0;32m      8\u001b[0m \u001b[1;33m\u001b[0m\u001b[0m\n\u001b[0;32m      9\u001b[0m     \u001b[1;32mreturn\u001b[0m \u001b[0mxi\u001b[0m\u001b[1;33m\u001b[0m\u001b[1;33m\u001b[0m\u001b[0m\n",
      "\u001b[1;31mZeroDivisionError\u001b[0m: float division by zero"
     ]
    }
   ],
   "source": [
    "from numpy import log\n",
    "a_log = 2\n",
    "b_log = 3\n",
    "def logistic(a, b, n):\n",
    "    for i in range(n):\n",
    "        x = random()\n",
    "        yield a + b * log(x / (1 - x))\n",
    "logistic_seq = list(logistic(a_log, b_log, n))\n",
    "\n",
    "f, segment_size, probabilities = count_frequencies(k, logistic_seq, logistic_distribution)\n",
    "\n",
    "pearson_logistic = pearson(f, len(logistic_seq), probabilities)\n",
    "print(\"Pearson logistic: \", pearson_logistic, \"< \", delta_pearson, \"? \", pearson_logistic < delta_pearson)"
   ]
  },
  {
   "cell_type": "code",
   "execution_count": null,
   "metadata": {},
   "outputs": [],
   "source": []
  }
 ],
 "metadata": {
  "kernelspec": {
   "display_name": "Python 3",
   "language": "python",
   "name": "python3"
  },
  "language_info": {
   "codemirror_mode": {
    "name": "ipython",
    "version": 3
   },
   "file_extension": ".py",
   "mimetype": "text/x-python",
   "name": "python",
   "nbconvert_exporter": "python",
   "pygments_lexer": "ipython3",
   "version": "3.7.3"
  }
 },
 "nbformat": 4,
 "nbformat_minor": 2
}
